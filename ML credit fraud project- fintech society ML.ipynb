{
 "cells": [
  {
   "cell_type": "code",
   "execution_count": 1,
   "id": "ce14908b",
   "metadata": {},
   "outputs": [],
   "source": [
    "import pandas as pd\n",
    "import numpy as np\n",
    "import matplotlib.pyplot as plt\n",
    "from sklearn.metrics import confusion_matrix #For observing the confusion matrix\n",
    "from sklearn.linear_model import LogisticRegression #For logistic regression\n",
    "from sklearn.model_selection import train_test_split,GridSearchCV #For train test split\n",
    "from sklearn.metrics import classification_report, precision_recall_curve, auc, roc_auc_score, roc_curve, recall_score #For detailed classification report\n",
    "from imblearn.over_sampling import SMOTE #for oversampling of data\n",
    "from sklearn.preprocessing import StandardScaler #for scaling of data\n",
    "from sklearn.neighbors import KNeighborsClassifier #KNN model\n",
    "from sklearn.tree import DecisionTreeClassifier #Decision tree model\n",
    "import seaborn as sns"
   ]
  },
  {
   "cell_type": "code",
   "execution_count": 2,
   "id": "3f6eef1f",
   "metadata": {},
   "outputs": [],
   "source": [
    "df = pd.read_csv(\"creditcard.csv\")"
   ]
  },
  {
   "cell_type": "markdown",
   "id": "b6f221e1",
   "metadata": {},
   "source": [
    "# Data Exploration"
   ]
  },
  {
   "cell_type": "code",
   "execution_count": 3,
   "id": "64308e9d",
   "metadata": {},
   "outputs": [
    {
     "data": {
      "text/html": [
       "<div>\n",
       "<style scoped>\n",
       "    .dataframe tbody tr th:only-of-type {\n",
       "        vertical-align: middle;\n",
       "    }\n",
       "\n",
       "    .dataframe tbody tr th {\n",
       "        vertical-align: top;\n",
       "    }\n",
       "\n",
       "    .dataframe thead th {\n",
       "        text-align: right;\n",
       "    }\n",
       "</style>\n",
       "<table border=\"1\" class=\"dataframe\">\n",
       "  <thead>\n",
       "    <tr style=\"text-align: right;\">\n",
       "      <th></th>\n",
       "      <th>Time</th>\n",
       "      <th>V1</th>\n",
       "      <th>V2</th>\n",
       "      <th>V3</th>\n",
       "      <th>V4</th>\n",
       "      <th>V5</th>\n",
       "      <th>V6</th>\n",
       "      <th>V7</th>\n",
       "      <th>V8</th>\n",
       "      <th>V9</th>\n",
       "      <th>...</th>\n",
       "      <th>V21</th>\n",
       "      <th>V22</th>\n",
       "      <th>V23</th>\n",
       "      <th>V24</th>\n",
       "      <th>V25</th>\n",
       "      <th>V26</th>\n",
       "      <th>V27</th>\n",
       "      <th>V28</th>\n",
       "      <th>Amount</th>\n",
       "      <th>Class</th>\n",
       "    </tr>\n",
       "  </thead>\n",
       "  <tbody>\n",
       "    <tr>\n",
       "      <th>0</th>\n",
       "      <td>0.0</td>\n",
       "      <td>-1.359807</td>\n",
       "      <td>-0.072781</td>\n",
       "      <td>2.536347</td>\n",
       "      <td>1.378155</td>\n",
       "      <td>-0.338321</td>\n",
       "      <td>0.462388</td>\n",
       "      <td>0.239599</td>\n",
       "      <td>0.098698</td>\n",
       "      <td>0.363787</td>\n",
       "      <td>...</td>\n",
       "      <td>-0.018307</td>\n",
       "      <td>0.277838</td>\n",
       "      <td>-0.110474</td>\n",
       "      <td>0.066928</td>\n",
       "      <td>0.128539</td>\n",
       "      <td>-0.189115</td>\n",
       "      <td>0.133558</td>\n",
       "      <td>-0.021053</td>\n",
       "      <td>149.62</td>\n",
       "      <td>0</td>\n",
       "    </tr>\n",
       "    <tr>\n",
       "      <th>1</th>\n",
       "      <td>0.0</td>\n",
       "      <td>1.191857</td>\n",
       "      <td>0.266151</td>\n",
       "      <td>0.166480</td>\n",
       "      <td>0.448154</td>\n",
       "      <td>0.060018</td>\n",
       "      <td>-0.082361</td>\n",
       "      <td>-0.078803</td>\n",
       "      <td>0.085102</td>\n",
       "      <td>-0.255425</td>\n",
       "      <td>...</td>\n",
       "      <td>-0.225775</td>\n",
       "      <td>-0.638672</td>\n",
       "      <td>0.101288</td>\n",
       "      <td>-0.339846</td>\n",
       "      <td>0.167170</td>\n",
       "      <td>0.125895</td>\n",
       "      <td>-0.008983</td>\n",
       "      <td>0.014724</td>\n",
       "      <td>2.69</td>\n",
       "      <td>0</td>\n",
       "    </tr>\n",
       "    <tr>\n",
       "      <th>2</th>\n",
       "      <td>1.0</td>\n",
       "      <td>-1.358354</td>\n",
       "      <td>-1.340163</td>\n",
       "      <td>1.773209</td>\n",
       "      <td>0.379780</td>\n",
       "      <td>-0.503198</td>\n",
       "      <td>1.800499</td>\n",
       "      <td>0.791461</td>\n",
       "      <td>0.247676</td>\n",
       "      <td>-1.514654</td>\n",
       "      <td>...</td>\n",
       "      <td>0.247998</td>\n",
       "      <td>0.771679</td>\n",
       "      <td>0.909412</td>\n",
       "      <td>-0.689281</td>\n",
       "      <td>-0.327642</td>\n",
       "      <td>-0.139097</td>\n",
       "      <td>-0.055353</td>\n",
       "      <td>-0.059752</td>\n",
       "      <td>378.66</td>\n",
       "      <td>0</td>\n",
       "    </tr>\n",
       "    <tr>\n",
       "      <th>3</th>\n",
       "      <td>1.0</td>\n",
       "      <td>-0.966272</td>\n",
       "      <td>-0.185226</td>\n",
       "      <td>1.792993</td>\n",
       "      <td>-0.863291</td>\n",
       "      <td>-0.010309</td>\n",
       "      <td>1.247203</td>\n",
       "      <td>0.237609</td>\n",
       "      <td>0.377436</td>\n",
       "      <td>-1.387024</td>\n",
       "      <td>...</td>\n",
       "      <td>-0.108300</td>\n",
       "      <td>0.005274</td>\n",
       "      <td>-0.190321</td>\n",
       "      <td>-1.175575</td>\n",
       "      <td>0.647376</td>\n",
       "      <td>-0.221929</td>\n",
       "      <td>0.062723</td>\n",
       "      <td>0.061458</td>\n",
       "      <td>123.50</td>\n",
       "      <td>0</td>\n",
       "    </tr>\n",
       "    <tr>\n",
       "      <th>4</th>\n",
       "      <td>2.0</td>\n",
       "      <td>-1.158233</td>\n",
       "      <td>0.877737</td>\n",
       "      <td>1.548718</td>\n",
       "      <td>0.403034</td>\n",
       "      <td>-0.407193</td>\n",
       "      <td>0.095921</td>\n",
       "      <td>0.592941</td>\n",
       "      <td>-0.270533</td>\n",
       "      <td>0.817739</td>\n",
       "      <td>...</td>\n",
       "      <td>-0.009431</td>\n",
       "      <td>0.798278</td>\n",
       "      <td>-0.137458</td>\n",
       "      <td>0.141267</td>\n",
       "      <td>-0.206010</td>\n",
       "      <td>0.502292</td>\n",
       "      <td>0.219422</td>\n",
       "      <td>0.215153</td>\n",
       "      <td>69.99</td>\n",
       "      <td>0</td>\n",
       "    </tr>\n",
       "  </tbody>\n",
       "</table>\n",
       "<p>5 rows × 31 columns</p>\n",
       "</div>"
      ],
      "text/plain": [
       "   Time        V1        V2        V3        V4        V5        V6        V7  \\\n",
       "0   0.0 -1.359807 -0.072781  2.536347  1.378155 -0.338321  0.462388  0.239599   \n",
       "1   0.0  1.191857  0.266151  0.166480  0.448154  0.060018 -0.082361 -0.078803   \n",
       "2   1.0 -1.358354 -1.340163  1.773209  0.379780 -0.503198  1.800499  0.791461   \n",
       "3   1.0 -0.966272 -0.185226  1.792993 -0.863291 -0.010309  1.247203  0.237609   \n",
       "4   2.0 -1.158233  0.877737  1.548718  0.403034 -0.407193  0.095921  0.592941   \n",
       "\n",
       "         V8        V9  ...       V21       V22       V23       V24       V25  \\\n",
       "0  0.098698  0.363787  ... -0.018307  0.277838 -0.110474  0.066928  0.128539   \n",
       "1  0.085102 -0.255425  ... -0.225775 -0.638672  0.101288 -0.339846  0.167170   \n",
       "2  0.247676 -1.514654  ...  0.247998  0.771679  0.909412 -0.689281 -0.327642   \n",
       "3  0.377436 -1.387024  ... -0.108300  0.005274 -0.190321 -1.175575  0.647376   \n",
       "4 -0.270533  0.817739  ... -0.009431  0.798278 -0.137458  0.141267 -0.206010   \n",
       "\n",
       "        V26       V27       V28  Amount  Class  \n",
       "0 -0.189115  0.133558 -0.021053  149.62      0  \n",
       "1  0.125895 -0.008983  0.014724    2.69      0  \n",
       "2 -0.139097 -0.055353 -0.059752  378.66      0  \n",
       "3 -0.221929  0.062723  0.061458  123.50      0  \n",
       "4  0.502292  0.219422  0.215153   69.99      0  \n",
       "\n",
       "[5 rows x 31 columns]"
      ]
     },
     "execution_count": 3,
     "metadata": {},
     "output_type": "execute_result"
    }
   ],
   "source": [
    "df.head()"
   ]
  },
  {
   "cell_type": "code",
   "execution_count": 4,
   "id": "01516423",
   "metadata": {},
   "outputs": [
    {
     "data": {
      "text/html": [
       "<div>\n",
       "<style scoped>\n",
       "    .dataframe tbody tr th:only-of-type {\n",
       "        vertical-align: middle;\n",
       "    }\n",
       "\n",
       "    .dataframe tbody tr th {\n",
       "        vertical-align: top;\n",
       "    }\n",
       "\n",
       "    .dataframe thead th {\n",
       "        text-align: right;\n",
       "    }\n",
       "</style>\n",
       "<table border=\"1\" class=\"dataframe\">\n",
       "  <thead>\n",
       "    <tr style=\"text-align: right;\">\n",
       "      <th></th>\n",
       "      <th>Time</th>\n",
       "      <th>V1</th>\n",
       "      <th>V2</th>\n",
       "      <th>V3</th>\n",
       "      <th>V4</th>\n",
       "      <th>V5</th>\n",
       "      <th>V6</th>\n",
       "      <th>V7</th>\n",
       "      <th>V8</th>\n",
       "      <th>V9</th>\n",
       "      <th>...</th>\n",
       "      <th>V21</th>\n",
       "      <th>V22</th>\n",
       "      <th>V23</th>\n",
       "      <th>V24</th>\n",
       "      <th>V25</th>\n",
       "      <th>V26</th>\n",
       "      <th>V27</th>\n",
       "      <th>V28</th>\n",
       "      <th>Amount</th>\n",
       "      <th>Class</th>\n",
       "    </tr>\n",
       "  </thead>\n",
       "  <tbody>\n",
       "    <tr>\n",
       "      <th>count</th>\n",
       "      <td>284807.000000</td>\n",
       "      <td>2.848070e+05</td>\n",
       "      <td>2.848070e+05</td>\n",
       "      <td>2.848070e+05</td>\n",
       "      <td>2.848070e+05</td>\n",
       "      <td>2.848070e+05</td>\n",
       "      <td>2.848070e+05</td>\n",
       "      <td>2.848070e+05</td>\n",
       "      <td>2.848070e+05</td>\n",
       "      <td>2.848070e+05</td>\n",
       "      <td>...</td>\n",
       "      <td>2.848070e+05</td>\n",
       "      <td>2.848070e+05</td>\n",
       "      <td>2.848070e+05</td>\n",
       "      <td>2.848070e+05</td>\n",
       "      <td>2.848070e+05</td>\n",
       "      <td>2.848070e+05</td>\n",
       "      <td>2.848070e+05</td>\n",
       "      <td>2.848070e+05</td>\n",
       "      <td>284807.000000</td>\n",
       "      <td>284807.000000</td>\n",
       "    </tr>\n",
       "    <tr>\n",
       "      <th>mean</th>\n",
       "      <td>94813.859575</td>\n",
       "      <td>3.918649e-15</td>\n",
       "      <td>5.682686e-16</td>\n",
       "      <td>-8.761736e-15</td>\n",
       "      <td>2.811118e-15</td>\n",
       "      <td>-1.552103e-15</td>\n",
       "      <td>2.040130e-15</td>\n",
       "      <td>-1.698953e-15</td>\n",
       "      <td>-1.893285e-16</td>\n",
       "      <td>-3.147640e-15</td>\n",
       "      <td>...</td>\n",
       "      <td>1.473120e-16</td>\n",
       "      <td>8.042109e-16</td>\n",
       "      <td>5.282512e-16</td>\n",
       "      <td>4.456271e-15</td>\n",
       "      <td>1.426896e-15</td>\n",
       "      <td>1.701640e-15</td>\n",
       "      <td>-3.662252e-16</td>\n",
       "      <td>-1.217809e-16</td>\n",
       "      <td>88.349619</td>\n",
       "      <td>0.001727</td>\n",
       "    </tr>\n",
       "    <tr>\n",
       "      <th>std</th>\n",
       "      <td>47488.145955</td>\n",
       "      <td>1.958696e+00</td>\n",
       "      <td>1.651309e+00</td>\n",
       "      <td>1.516255e+00</td>\n",
       "      <td>1.415869e+00</td>\n",
       "      <td>1.380247e+00</td>\n",
       "      <td>1.332271e+00</td>\n",
       "      <td>1.237094e+00</td>\n",
       "      <td>1.194353e+00</td>\n",
       "      <td>1.098632e+00</td>\n",
       "      <td>...</td>\n",
       "      <td>7.345240e-01</td>\n",
       "      <td>7.257016e-01</td>\n",
       "      <td>6.244603e-01</td>\n",
       "      <td>6.056471e-01</td>\n",
       "      <td>5.212781e-01</td>\n",
       "      <td>4.822270e-01</td>\n",
       "      <td>4.036325e-01</td>\n",
       "      <td>3.300833e-01</td>\n",
       "      <td>250.120109</td>\n",
       "      <td>0.041527</td>\n",
       "    </tr>\n",
       "    <tr>\n",
       "      <th>min</th>\n",
       "      <td>0.000000</td>\n",
       "      <td>-5.640751e+01</td>\n",
       "      <td>-7.271573e+01</td>\n",
       "      <td>-4.832559e+01</td>\n",
       "      <td>-5.683171e+00</td>\n",
       "      <td>-1.137433e+02</td>\n",
       "      <td>-2.616051e+01</td>\n",
       "      <td>-4.355724e+01</td>\n",
       "      <td>-7.321672e+01</td>\n",
       "      <td>-1.343407e+01</td>\n",
       "      <td>...</td>\n",
       "      <td>-3.483038e+01</td>\n",
       "      <td>-1.093314e+01</td>\n",
       "      <td>-4.480774e+01</td>\n",
       "      <td>-2.836627e+00</td>\n",
       "      <td>-1.029540e+01</td>\n",
       "      <td>-2.604551e+00</td>\n",
       "      <td>-2.256568e+01</td>\n",
       "      <td>-1.543008e+01</td>\n",
       "      <td>0.000000</td>\n",
       "      <td>0.000000</td>\n",
       "    </tr>\n",
       "    <tr>\n",
       "      <th>25%</th>\n",
       "      <td>54201.500000</td>\n",
       "      <td>-9.203734e-01</td>\n",
       "      <td>-5.985499e-01</td>\n",
       "      <td>-8.903648e-01</td>\n",
       "      <td>-8.486401e-01</td>\n",
       "      <td>-6.915971e-01</td>\n",
       "      <td>-7.682956e-01</td>\n",
       "      <td>-5.540759e-01</td>\n",
       "      <td>-2.086297e-01</td>\n",
       "      <td>-6.430976e-01</td>\n",
       "      <td>...</td>\n",
       "      <td>-2.283949e-01</td>\n",
       "      <td>-5.423504e-01</td>\n",
       "      <td>-1.618463e-01</td>\n",
       "      <td>-3.545861e-01</td>\n",
       "      <td>-3.171451e-01</td>\n",
       "      <td>-3.269839e-01</td>\n",
       "      <td>-7.083953e-02</td>\n",
       "      <td>-5.295979e-02</td>\n",
       "      <td>5.600000</td>\n",
       "      <td>0.000000</td>\n",
       "    </tr>\n",
       "    <tr>\n",
       "      <th>50%</th>\n",
       "      <td>84692.000000</td>\n",
       "      <td>1.810880e-02</td>\n",
       "      <td>6.548556e-02</td>\n",
       "      <td>1.798463e-01</td>\n",
       "      <td>-1.984653e-02</td>\n",
       "      <td>-5.433583e-02</td>\n",
       "      <td>-2.741871e-01</td>\n",
       "      <td>4.010308e-02</td>\n",
       "      <td>2.235804e-02</td>\n",
       "      <td>-5.142873e-02</td>\n",
       "      <td>...</td>\n",
       "      <td>-2.945017e-02</td>\n",
       "      <td>6.781943e-03</td>\n",
       "      <td>-1.119293e-02</td>\n",
       "      <td>4.097606e-02</td>\n",
       "      <td>1.659350e-02</td>\n",
       "      <td>-5.213911e-02</td>\n",
       "      <td>1.342146e-03</td>\n",
       "      <td>1.124383e-02</td>\n",
       "      <td>22.000000</td>\n",
       "      <td>0.000000</td>\n",
       "    </tr>\n",
       "    <tr>\n",
       "      <th>75%</th>\n",
       "      <td>139320.500000</td>\n",
       "      <td>1.315642e+00</td>\n",
       "      <td>8.037239e-01</td>\n",
       "      <td>1.027196e+00</td>\n",
       "      <td>7.433413e-01</td>\n",
       "      <td>6.119264e-01</td>\n",
       "      <td>3.985649e-01</td>\n",
       "      <td>5.704361e-01</td>\n",
       "      <td>3.273459e-01</td>\n",
       "      <td>5.971390e-01</td>\n",
       "      <td>...</td>\n",
       "      <td>1.863772e-01</td>\n",
       "      <td>5.285536e-01</td>\n",
       "      <td>1.476421e-01</td>\n",
       "      <td>4.395266e-01</td>\n",
       "      <td>3.507156e-01</td>\n",
       "      <td>2.409522e-01</td>\n",
       "      <td>9.104512e-02</td>\n",
       "      <td>7.827995e-02</td>\n",
       "      <td>77.165000</td>\n",
       "      <td>0.000000</td>\n",
       "    </tr>\n",
       "    <tr>\n",
       "      <th>max</th>\n",
       "      <td>172792.000000</td>\n",
       "      <td>2.454930e+00</td>\n",
       "      <td>2.205773e+01</td>\n",
       "      <td>9.382558e+00</td>\n",
       "      <td>1.687534e+01</td>\n",
       "      <td>3.480167e+01</td>\n",
       "      <td>7.330163e+01</td>\n",
       "      <td>1.205895e+02</td>\n",
       "      <td>2.000721e+01</td>\n",
       "      <td>1.559499e+01</td>\n",
       "      <td>...</td>\n",
       "      <td>2.720284e+01</td>\n",
       "      <td>1.050309e+01</td>\n",
       "      <td>2.252841e+01</td>\n",
       "      <td>4.584549e+00</td>\n",
       "      <td>7.519589e+00</td>\n",
       "      <td>3.517346e+00</td>\n",
       "      <td>3.161220e+01</td>\n",
       "      <td>3.384781e+01</td>\n",
       "      <td>25691.160000</td>\n",
       "      <td>1.000000</td>\n",
       "    </tr>\n",
       "  </tbody>\n",
       "</table>\n",
       "<p>8 rows × 31 columns</p>\n",
       "</div>"
      ],
      "text/plain": [
       "                Time            V1            V2            V3            V4  \\\n",
       "count  284807.000000  2.848070e+05  2.848070e+05  2.848070e+05  2.848070e+05   \n",
       "mean    94813.859575  3.918649e-15  5.682686e-16 -8.761736e-15  2.811118e-15   \n",
       "std     47488.145955  1.958696e+00  1.651309e+00  1.516255e+00  1.415869e+00   \n",
       "min         0.000000 -5.640751e+01 -7.271573e+01 -4.832559e+01 -5.683171e+00   \n",
       "25%     54201.500000 -9.203734e-01 -5.985499e-01 -8.903648e-01 -8.486401e-01   \n",
       "50%     84692.000000  1.810880e-02  6.548556e-02  1.798463e-01 -1.984653e-02   \n",
       "75%    139320.500000  1.315642e+00  8.037239e-01  1.027196e+00  7.433413e-01   \n",
       "max    172792.000000  2.454930e+00  2.205773e+01  9.382558e+00  1.687534e+01   \n",
       "\n",
       "                 V5            V6            V7            V8            V9  \\\n",
       "count  2.848070e+05  2.848070e+05  2.848070e+05  2.848070e+05  2.848070e+05   \n",
       "mean  -1.552103e-15  2.040130e-15 -1.698953e-15 -1.893285e-16 -3.147640e-15   \n",
       "std    1.380247e+00  1.332271e+00  1.237094e+00  1.194353e+00  1.098632e+00   \n",
       "min   -1.137433e+02 -2.616051e+01 -4.355724e+01 -7.321672e+01 -1.343407e+01   \n",
       "25%   -6.915971e-01 -7.682956e-01 -5.540759e-01 -2.086297e-01 -6.430976e-01   \n",
       "50%   -5.433583e-02 -2.741871e-01  4.010308e-02  2.235804e-02 -5.142873e-02   \n",
       "75%    6.119264e-01  3.985649e-01  5.704361e-01  3.273459e-01  5.971390e-01   \n",
       "max    3.480167e+01  7.330163e+01  1.205895e+02  2.000721e+01  1.559499e+01   \n",
       "\n",
       "       ...           V21           V22           V23           V24  \\\n",
       "count  ...  2.848070e+05  2.848070e+05  2.848070e+05  2.848070e+05   \n",
       "mean   ...  1.473120e-16  8.042109e-16  5.282512e-16  4.456271e-15   \n",
       "std    ...  7.345240e-01  7.257016e-01  6.244603e-01  6.056471e-01   \n",
       "min    ... -3.483038e+01 -1.093314e+01 -4.480774e+01 -2.836627e+00   \n",
       "25%    ... -2.283949e-01 -5.423504e-01 -1.618463e-01 -3.545861e-01   \n",
       "50%    ... -2.945017e-02  6.781943e-03 -1.119293e-02  4.097606e-02   \n",
       "75%    ...  1.863772e-01  5.285536e-01  1.476421e-01  4.395266e-01   \n",
       "max    ...  2.720284e+01  1.050309e+01  2.252841e+01  4.584549e+00   \n",
       "\n",
       "                V25           V26           V27           V28         Amount  \\\n",
       "count  2.848070e+05  2.848070e+05  2.848070e+05  2.848070e+05  284807.000000   \n",
       "mean   1.426896e-15  1.701640e-15 -3.662252e-16 -1.217809e-16      88.349619   \n",
       "std    5.212781e-01  4.822270e-01  4.036325e-01  3.300833e-01     250.120109   \n",
       "min   -1.029540e+01 -2.604551e+00 -2.256568e+01 -1.543008e+01       0.000000   \n",
       "25%   -3.171451e-01 -3.269839e-01 -7.083953e-02 -5.295979e-02       5.600000   \n",
       "50%    1.659350e-02 -5.213911e-02  1.342146e-03  1.124383e-02      22.000000   \n",
       "75%    3.507156e-01  2.409522e-01  9.104512e-02  7.827995e-02      77.165000   \n",
       "max    7.519589e+00  3.517346e+00  3.161220e+01  3.384781e+01   25691.160000   \n",
       "\n",
       "               Class  \n",
       "count  284807.000000  \n",
       "mean        0.001727  \n",
       "std         0.041527  \n",
       "min         0.000000  \n",
       "25%         0.000000  \n",
       "50%         0.000000  \n",
       "75%         0.000000  \n",
       "max         1.000000  \n",
       "\n",
       "[8 rows x 31 columns]"
      ]
     },
     "execution_count": 4,
     "metadata": {},
     "output_type": "execute_result"
    }
   ],
   "source": [
    "df.describe()"
   ]
  },
  {
   "cell_type": "code",
   "execution_count": 5,
   "id": "c35bec9f",
   "metadata": {},
   "outputs": [
    {
     "data": {
      "text/plain": [
       "False"
      ]
     },
     "execution_count": 5,
     "metadata": {},
     "output_type": "execute_result"
    }
   ],
   "source": [
    "df.isnull().values.any() #check for missing data"
   ]
  },
  {
   "cell_type": "markdown",
   "id": "b336e3b8",
   "metadata": {},
   "source": [
    "No missing data detected"
   ]
  },
  {
   "cell_type": "code",
   "execution_count": 6,
   "id": "ee3bd18e",
   "metadata": {},
   "outputs": [],
   "source": [
    "temp = df[\"Class\"].value_counts()"
   ]
  },
  {
   "cell_type": "code",
   "execution_count": 7,
   "id": "97228497",
   "metadata": {
    "scrolled": false
   },
   "outputs": [
    {
     "data": {
      "text/plain": [
       "0    284315\n",
       "1       492\n",
       "Name: Class, dtype: int64"
      ]
     },
     "execution_count": 7,
     "metadata": {},
     "output_type": "execute_result"
    }
   ],
   "source": [
    "temp"
   ]
  },
  {
   "cell_type": "code",
   "execution_count": 8,
   "id": "5a9cfc20",
   "metadata": {},
   "outputs": [],
   "source": [
    "test_df = pd.DataFrame({'Class': temp.index,'values': temp.values})"
   ]
  },
  {
   "cell_type": "code",
   "execution_count": 9,
   "id": "ccfdf28f",
   "metadata": {},
   "outputs": [
    {
     "data": {
      "text/html": [
       "<div>\n",
       "<style scoped>\n",
       "    .dataframe tbody tr th:only-of-type {\n",
       "        vertical-align: middle;\n",
       "    }\n",
       "\n",
       "    .dataframe tbody tr th {\n",
       "        vertical-align: top;\n",
       "    }\n",
       "\n",
       "    .dataframe thead th {\n",
       "        text-align: right;\n",
       "    }\n",
       "</style>\n",
       "<table border=\"1\" class=\"dataframe\">\n",
       "  <thead>\n",
       "    <tr style=\"text-align: right;\">\n",
       "      <th></th>\n",
       "      <th>Class</th>\n",
       "      <th>values</th>\n",
       "    </tr>\n",
       "  </thead>\n",
       "  <tbody>\n",
       "    <tr>\n",
       "      <th>0</th>\n",
       "      <td>0</td>\n",
       "      <td>284315</td>\n",
       "    </tr>\n",
       "    <tr>\n",
       "      <th>1</th>\n",
       "      <td>1</td>\n",
       "      <td>492</td>\n",
       "    </tr>\n",
       "  </tbody>\n",
       "</table>\n",
       "</div>"
      ],
      "text/plain": [
       "   Class  values\n",
       "0      0  284315\n",
       "1      1     492"
      ]
     },
     "execution_count": 9,
     "metadata": {},
     "output_type": "execute_result"
    }
   ],
   "source": [
    "test_df"
   ]
  },
  {
   "cell_type": "code",
   "execution_count": 10,
   "id": "6a144d94",
   "metadata": {},
   "outputs": [],
   "source": [
    "value_sum=test_df[\"values\"].sum()"
   ]
  },
  {
   "cell_type": "code",
   "execution_count": 11,
   "id": "09fd3c2d",
   "metadata": {},
   "outputs": [],
   "source": [
    "value_nf=test_df[\"values\"][0]"
   ]
  },
  {
   "cell_type": "code",
   "execution_count": 12,
   "id": "1e2b3393",
   "metadata": {},
   "outputs": [],
   "source": [
    "value_f=test_df[\"values\"][1]"
   ]
  },
  {
   "cell_type": "code",
   "execution_count": 13,
   "id": "b169ee6f",
   "metadata": {},
   "outputs": [
    {
     "name": "stdout",
     "output_type": "stream",
     "text": [
      "Percentage of fraud data in dataset = 0.173 %\n"
     ]
    }
   ],
   "source": [
    "print(\"Percentage of fraud data in dataset =\", round(value_f/value_sum*100,3),\"%\") #showing that the data is highly imbalanced"
   ]
  },
  {
   "cell_type": "markdown",
   "id": "41b78df4",
   "metadata": {},
   "source": [
    "# Visualization of raw data"
   ]
  },
  {
   "cell_type": "markdown",
   "id": "26062d20",
   "metadata": {},
   "source": [
    "This step is to allow us to understand what type of methods we should use for data cleaning"
   ]
  },
  {
   "cell_type": "code",
   "execution_count": 14,
   "id": "ee149e22",
   "metadata": {
    "scrolled": false
   },
   "outputs": [
    {
     "name": "stderr",
     "output_type": "stream",
     "text": [
      "C:\\Users\\bsmat\\anaconda3\\lib\\site-packages\\seaborn\\_decorators.py:36: FutureWarning: Pass the following variable as a keyword arg: x. From version 0.12, the only valid positional argument will be `data`, and passing other arguments without an explicit keyword will result in an error or misinterpretation.\n",
      "  warnings.warn(\n"
     ]
    },
    {
     "data": {
      "text/plain": [
       "<AxesSubplot:xlabel='Class', ylabel='count'>"
      ]
     },
     "execution_count": 14,
     "metadata": {},
     "output_type": "execute_result"
    },
    {
     "data": {
      "image/png": "[encoded data removed]",
      "text/plain": [
       "<Figure size 432x288 with 1 Axes>"
      ]
     },
     "metadata": {
      "needs_background": "light"
     },
     "output_type": "display_data"
    }
   ],
   "source": [
    "sns.countplot(\"Class\",data=df,palette=\"tab10\") #representation of data imbalance (0 is not fraudulent, 1 is fraudulent)"
   ]
  },
  {
   "cell_type": "markdown",
   "id": "afb60607",
   "metadata": {},
   "source": [
    "Data is found to be heavily imbalanced, actions required"
   ]
  },
  {
   "cell_type": "code",
   "execution_count": 15,
   "id": "118367f6",
   "metadata": {
    "scrolled": false
   },
   "outputs": [
    {
     "name": "stderr",
     "output_type": "stream",
     "text": [
      "C:\\Users\\bsmat\\anaconda3\\lib\\site-packages\\seaborn\\distributions.py:2557: FutureWarning: `distplot` is a deprecated function and will be removed in a future version. Please adapt your code to use either `displot` (a figure-level function with similar flexibility) or `histplot` (an axes-level function for histograms).\n",
      "  warnings.warn(msg, FutureWarning)\n"
     ]
    },
    {
     "data": {
      "text/plain": [
       "<AxesSubplot:xlabel='Time', ylabel='Density'>"
      ]
     },
     "execution_count": 15,
     "metadata": {},
     "output_type": "execute_result"
    },
    {
     "data": {
      "image/png": "[encoded data removed]",
      "text/plain": [
       "<Figure size 432x288 with 1 Axes>"
      ]
     },
     "metadata": {
      "needs_background": "light"
     },
     "output_type": "display_data"
    }
   ],
   "source": [
    "sns.distplot(df[\"Time\"])"
   ]
  },
  {
   "cell_type": "code",
   "execution_count": 16,
   "id": "6db1a33e",
   "metadata": {},
   "outputs": [
    {
     "name": "stderr",
     "output_type": "stream",
     "text": [
      "C:\\Users\\bsmat\\anaconda3\\lib\\site-packages\\seaborn\\distributions.py:2557: FutureWarning: `distplot` is a deprecated function and will be removed in a future version. Please adapt your code to use either `displot` (a figure-level function with similar flexibility) or `kdeplot` (an axes-level function for kernel density plots).\n",
      "  warnings.warn(msg, FutureWarning)\n",
      "C:\\Users\\bsmat\\anaconda3\\lib\\site-packages\\seaborn\\distributions.py:2557: FutureWarning: `distplot` is a deprecated function and will be removed in a future version. Please adapt your code to use either `displot` (a figure-level function with similar flexibility) or `kdeplot` (an axes-level function for kernel density plots).\n",
      "  warnings.warn(msg, FutureWarning)\n"
     ]
    },
    {
     "data": {
      "text/plain": [
       "Text(0.5, 1.0, 'Distribution of transaction time')"
      ]
     },
     "execution_count": 16,
     "metadata": {},
     "output_type": "execute_result"
    },
    {
     "data": {
      "image/png": "[encoded data removed]",
      "text/plain": [
       "<Figure size 1440x360 with 2 Axes>"
      ]
     },
     "metadata": {
      "needs_background": "light"
     },
     "output_type": "display_data"
    }
   ],
   "source": [
    "df_new=df[df[\"Amount\"]<2000] #removing extreme values of high amounts to make the graph more readable\n",
    "fig, ax = plt.subplots(1,2, figsize=(20,5))\n",
    "sns.distplot(df_new[\"Time\"], ax=ax[1],hist=False)\n",
    "sns.distplot(df_new[\"Amount\"], ax=ax[0],hist=False)\n",
    "ax[0].set_title(\"Distribution of transaction amount\", fontsize=15)\n",
    "ax[1].set_title(\"Distribution of transaction time\", fontsize=15)"
   ]
  },
  {
   "cell_type": "code",
   "execution_count": 17,
   "id": "bcb337c4",
   "metadata": {},
   "outputs": [],
   "source": [
    "df1 = df_new[df_new['Class'] < 1]\n",
    "df2 = df_new[df_new['Class'] ==1] #splitting up data frame into fraud and not fraud"
   ]
  },
  {
   "cell_type": "code",
   "execution_count": 18,
   "id": "e1038e31",
   "metadata": {},
   "outputs": [
    {
     "name": "stderr",
     "output_type": "stream",
     "text": [
      "C:\\Users\\bsmat\\anaconda3\\lib\\site-packages\\seaborn\\distributions.py:2557: FutureWarning: `distplot` is a deprecated function and will be removed in a future version. Please adapt your code to use either `displot` (a figure-level function with similar flexibility) or `kdeplot` (an axes-level function for kernel density plots).\n",
      "  warnings.warn(msg, FutureWarning)\n",
      "C:\\Users\\bsmat\\anaconda3\\lib\\site-packages\\seaborn\\distributions.py:2557: FutureWarning: `distplot` is a deprecated function and will be removed in a future version. Please adapt your code to use either `displot` (a figure-level function with similar flexibility) or `histplot` (an axes-level function for histograms).\n",
      "  warnings.warn(msg, FutureWarning)\n",
      "C:\\Users\\bsmat\\anaconda3\\lib\\site-packages\\seaborn\\distributions.py:2557: FutureWarning: `distplot` is a deprecated function and will be removed in a future version. Please adapt your code to use either `displot` (a figure-level function with similar flexibility) or `kdeplot` (an axes-level function for kernel density plots).\n",
      "  warnings.warn(msg, FutureWarning)\n",
      "C:\\Users\\bsmat\\anaconda3\\lib\\site-packages\\seaborn\\distributions.py:2557: FutureWarning: `distplot` is a deprecated function and will be removed in a future version. Please adapt your code to use either `displot` (a figure-level function with similar flexibility) or `histplot` (an axes-level function for histograms).\n",
      "  warnings.warn(msg, FutureWarning)\n",
      "No handles with labels found to put in legend.\n",
      "No handles with labels found to put in legend.\n"
     ]
    },
    {
     "data": {
      "text/plain": [
       "<matplotlib.legend.Legend at 0x28b20e72250>"
      ]
     },
     "execution_count": 18,
     "metadata": {},
     "output_type": "execute_result"
    },
    {
     "data": {
      "image/png": "[encoded data removed]",
      "text/plain": [
       "<Figure size 1440x360 with 2 Axes>"
      ]
     },
     "metadata": {
      "needs_background": "light"
     },
     "output_type": "display_data"
    }
   ],
   "source": [
    "fig, ax = plt.subplots(1,2, figsize=(20,5))\n",
    "sns.distplot(df1[\"Time\"], ax=ax[1],hist=False)\n",
    "sns.distplot(df1[\"Amount\"], ax=ax[0])\n",
    "sns.distplot(df2[\"Time\"], ax=ax[1],hist=False)\n",
    "sns.distplot(df2[\"Amount\"], ax=ax[0])\n",
    "ax[0].set_title(\"Distribution of transaction amount by Class\", fontsize=15)\n",
    "ax[1].set_title(\"Distribution of transaction time by Class\", fontsize=15)\n",
    "ax[0].legend(loc=\"upper right\")\n",
    "ax[1].legend(loc=\"upper right\")"
   ]
  },
  {
   "cell_type": "markdown",
   "id": "4d38443b",
   "metadata": {},
   "source": [
    "Distribution of fraudulant transactions are more varied in terms of transaction amounts."
   ]
  },
  {
   "cell_type": "markdown",
   "id": "d79afb4d",
   "metadata": {},
   "source": [
    "# Data Cleaning method 1 (Random under sampling)"
   ]
  },
  {
   "cell_type": "markdown",
   "id": "9ee1ff9e",
   "metadata": {},
   "source": [
    "Since there are only 492 fraudulant transactions in the dataframe, we randomly select 492 samples from non-fraudulant transactions to create a sample that is 50/50 for both Class 1 and Class 0"
   ]
  },
  {
   "cell_type": "code",
   "execution_count": 19,
   "id": "7c064067",
   "metadata": {},
   "outputs": [
    {
     "data": {
      "text/html": [
       "<div>\n",
       "<style scoped>\n",
       "    .dataframe tbody tr th:only-of-type {\n",
       "        vertical-align: middle;\n",
       "    }\n",
       "\n",
       "    .dataframe tbody tr th {\n",
       "        vertical-align: top;\n",
       "    }\n",
       "\n",
       "    .dataframe thead th {\n",
       "        text-align: right;\n",
       "    }\n",
       "</style>\n",
       "<table border=\"1\" class=\"dataframe\">\n",
       "  <thead>\n",
       "    <tr style=\"text-align: right;\">\n",
       "      <th></th>\n",
       "      <th>Time</th>\n",
       "      <th>V1</th>\n",
       "      <th>V2</th>\n",
       "      <th>V3</th>\n",
       "      <th>V4</th>\n",
       "      <th>V5</th>\n",
       "      <th>V6</th>\n",
       "      <th>V7</th>\n",
       "      <th>V8</th>\n",
       "      <th>V9</th>\n",
       "      <th>...</th>\n",
       "      <th>V21</th>\n",
       "      <th>V22</th>\n",
       "      <th>V23</th>\n",
       "      <th>V24</th>\n",
       "      <th>V25</th>\n",
       "      <th>V26</th>\n",
       "      <th>V27</th>\n",
       "      <th>V28</th>\n",
       "      <th>Amount</th>\n",
       "      <th>Class</th>\n",
       "    </tr>\n",
       "  </thead>\n",
       "  <tbody>\n",
       "    <tr>\n",
       "      <th>count</th>\n",
       "      <td>982.000000</td>\n",
       "      <td>982.000000</td>\n",
       "      <td>982.000000</td>\n",
       "      <td>982.000000</td>\n",
       "      <td>982.000000</td>\n",
       "      <td>982.000000</td>\n",
       "      <td>982.000000</td>\n",
       "      <td>982.000000</td>\n",
       "      <td>982.000000</td>\n",
       "      <td>982.000000</td>\n",
       "      <td>...</td>\n",
       "      <td>982.000000</td>\n",
       "      <td>982.000000</td>\n",
       "      <td>982.000000</td>\n",
       "      <td>982.000000</td>\n",
       "      <td>982.000000</td>\n",
       "      <td>982.000000</td>\n",
       "      <td>982.000000</td>\n",
       "      <td>982.000000</td>\n",
       "      <td>982.000000</td>\n",
       "      <td>982.000000</td>\n",
       "    </tr>\n",
       "    <tr>\n",
       "      <th>mean</th>\n",
       "      <td>87036.381874</td>\n",
       "      <td>-2.462280</td>\n",
       "      <td>1.878319</td>\n",
       "      <td>-3.548394</td>\n",
       "      <td>2.261589</td>\n",
       "      <td>-1.569523</td>\n",
       "      <td>-0.689773</td>\n",
       "      <td>-2.807320</td>\n",
       "      <td>0.311243</td>\n",
       "      <td>-1.270563</td>\n",
       "      <td>...</td>\n",
       "      <td>0.374329</td>\n",
       "      <td>0.014336</td>\n",
       "      <td>-0.019277</td>\n",
       "      <td>-0.043358</td>\n",
       "      <td>0.035153</td>\n",
       "      <td>0.024278</td>\n",
       "      <td>0.087083</td>\n",
       "      <td>0.034334</td>\n",
       "      <td>95.683259</td>\n",
       "      <td>0.500000</td>\n",
       "    </tr>\n",
       "    <tr>\n",
       "      <th>std</th>\n",
       "      <td>48467.420894</td>\n",
       "      <td>5.564689</td>\n",
       "      <td>3.717425</td>\n",
       "      <td>6.232403</td>\n",
       "      <td>3.218409</td>\n",
       "      <td>4.211595</td>\n",
       "      <td>1.765935</td>\n",
       "      <td>5.841809</td>\n",
       "      <td>4.891248</td>\n",
       "      <td>2.342656</td>\n",
       "      <td>...</td>\n",
       "      <td>2.806566</td>\n",
       "      <td>1.176743</td>\n",
       "      <td>1.179159</td>\n",
       "      <td>0.557005</td>\n",
       "      <td>0.667947</td>\n",
       "      <td>0.471855</td>\n",
       "      <td>1.019076</td>\n",
       "      <td>0.437801</td>\n",
       "      <td>198.808947</td>\n",
       "      <td>0.500255</td>\n",
       "    </tr>\n",
       "    <tr>\n",
       "      <th>min</th>\n",
       "      <td>100.000000</td>\n",
       "      <td>-30.552380</td>\n",
       "      <td>-19.594650</td>\n",
       "      <td>-31.103685</td>\n",
       "      <td>-4.190266</td>\n",
       "      <td>-22.105532</td>\n",
       "      <td>-6.406267</td>\n",
       "      <td>-43.557242</td>\n",
       "      <td>-41.044261</td>\n",
       "      <td>-13.434066</td>\n",
       "      <td>...</td>\n",
       "      <td>-22.797604</td>\n",
       "      <td>-8.887017</td>\n",
       "      <td>-19.254328</td>\n",
       "      <td>-2.028024</td>\n",
       "      <td>-4.781606</td>\n",
       "      <td>-1.152671</td>\n",
       "      <td>-7.263482</td>\n",
       "      <td>-3.529290</td>\n",
       "      <td>0.000000</td>\n",
       "      <td>0.000000</td>\n",
       "    </tr>\n",
       "    <tr>\n",
       "      <th>25%</th>\n",
       "      <td>45472.500000</td>\n",
       "      <td>-3.039966</td>\n",
       "      <td>-0.080119</td>\n",
       "      <td>-5.139816</td>\n",
       "      <td>-0.118856</td>\n",
       "      <td>-1.723501</td>\n",
       "      <td>-1.568882</td>\n",
       "      <td>-3.104310</td>\n",
       "      <td>-0.202248</td>\n",
       "      <td>-2.289099</td>\n",
       "      <td>...</td>\n",
       "      <td>-0.160495</td>\n",
       "      <td>-0.532045</td>\n",
       "      <td>-0.234500</td>\n",
       "      <td>-0.379013</td>\n",
       "      <td>-0.300786</td>\n",
       "      <td>-0.278128</td>\n",
       "      <td>-0.066423</td>\n",
       "      <td>-0.055333</td>\n",
       "      <td>1.495000</td>\n",
       "      <td>0.000000</td>\n",
       "    </tr>\n",
       "    <tr>\n",
       "      <th>50%</th>\n",
       "      <td>79562.500000</td>\n",
       "      <td>-0.846862</td>\n",
       "      <td>1.011281</td>\n",
       "      <td>-1.359936</td>\n",
       "      <td>1.349933</td>\n",
       "      <td>-0.393248</td>\n",
       "      <td>-0.653018</td>\n",
       "      <td>-0.626928</td>\n",
       "      <td>0.167874</td>\n",
       "      <td>-0.694180</td>\n",
       "      <td>...</td>\n",
       "      <td>0.164110</td>\n",
       "      <td>0.032148</td>\n",
       "      <td>-0.031389</td>\n",
       "      <td>0.007570</td>\n",
       "      <td>0.079108</td>\n",
       "      <td>-0.033590</td>\n",
       "      <td>0.048315</td>\n",
       "      <td>0.035385</td>\n",
       "      <td>16.545000</td>\n",
       "      <td>0.500000</td>\n",
       "    </tr>\n",
       "    <tr>\n",
       "      <th>75%</th>\n",
       "      <td>134601.750000</td>\n",
       "      <td>1.028331</td>\n",
       "      <td>2.921927</td>\n",
       "      <td>0.324914</td>\n",
       "      <td>4.240590</td>\n",
       "      <td>0.472953</td>\n",
       "      <td>0.096328</td>\n",
       "      <td>0.267575</td>\n",
       "      <td>0.884280</td>\n",
       "      <td>0.184658</td>\n",
       "      <td>...</td>\n",
       "      <td>0.650170</td>\n",
       "      <td>0.597007</td>\n",
       "      <td>0.195366</td>\n",
       "      <td>0.373263</td>\n",
       "      <td>0.403168</td>\n",
       "      <td>0.305499</td>\n",
       "      <td>0.462166</td>\n",
       "      <td>0.218938</td>\n",
       "      <td>99.990000</td>\n",
       "      <td>1.000000</td>\n",
       "    </tr>\n",
       "    <tr>\n",
       "      <th>max</th>\n",
       "      <td>172411.000000</td>\n",
       "      <td>2.278398</td>\n",
       "      <td>22.057729</td>\n",
       "      <td>3.213987</td>\n",
       "      <td>12.114672</td>\n",
       "      <td>11.095089</td>\n",
       "      <td>6.474115</td>\n",
       "      <td>5.802537</td>\n",
       "      <td>20.007208</td>\n",
       "      <td>6.750766</td>\n",
       "      <td>...</td>\n",
       "      <td>27.202839</td>\n",
       "      <td>8.361985</td>\n",
       "      <td>5.466230</td>\n",
       "      <td>1.108748</td>\n",
       "      <td>2.208209</td>\n",
       "      <td>2.745261</td>\n",
       "      <td>3.685950</td>\n",
       "      <td>1.779364</td>\n",
       "      <td>1809.680000</td>\n",
       "      <td>1.000000</td>\n",
       "    </tr>\n",
       "  </tbody>\n",
       "</table>\n",
       "<p>8 rows × 31 columns</p>\n",
       "</div>"
      ],
      "text/plain": [
       "                Time          V1          V2          V3          V4  \\\n",
       "count     982.000000  982.000000  982.000000  982.000000  982.000000   \n",
       "mean    87036.381874   -2.462280    1.878319   -3.548394    2.261589   \n",
       "std     48467.420894    5.564689    3.717425    6.232403    3.218409   \n",
       "min       100.000000  -30.552380  -19.594650  -31.103685   -4.190266   \n",
       "25%     45472.500000   -3.039966   -0.080119   -5.139816   -0.118856   \n",
       "50%     79562.500000   -0.846862    1.011281   -1.359936    1.349933   \n",
       "75%    134601.750000    1.028331    2.921927    0.324914    4.240590   \n",
       "max    172411.000000    2.278398   22.057729    3.213987   12.114672   \n",
       "\n",
       "               V5          V6          V7          V8          V9  ...  \\\n",
       "count  982.000000  982.000000  982.000000  982.000000  982.000000  ...   \n",
       "mean    -1.569523   -0.689773   -2.807320    0.311243   -1.270563  ...   \n",
       "std      4.211595    1.765935    5.841809    4.891248    2.342656  ...   \n",
       "min    -22.105532   -6.406267  -43.557242  -41.044261  -13.434066  ...   \n",
       "25%     -1.723501   -1.568882   -3.104310   -0.202248   -2.289099  ...   \n",
       "50%     -0.393248   -0.653018   -0.626928    0.167874   -0.694180  ...   \n",
       "75%      0.472953    0.096328    0.267575    0.884280    0.184658  ...   \n",
       "max     11.095089    6.474115    5.802537   20.007208    6.750766  ...   \n",
       "\n",
       "              V21         V22         V23         V24         V25         V26  \\\n",
       "count  982.000000  982.000000  982.000000  982.000000  982.000000  982.000000   \n",
       "mean     0.374329    0.014336   -0.019277   -0.043358    0.035153    0.024278   \n",
       "std      2.806566    1.176743    1.179159    0.557005    0.667947    0.471855   \n",
       "min    -22.797604   -8.887017  -19.254328   -2.028024   -4.781606   -1.152671   \n",
       "25%     -0.160495   -0.532045   -0.234500   -0.379013   -0.300786   -0.278128   \n",
       "50%      0.164110    0.032148   -0.031389    0.007570    0.079108   -0.033590   \n",
       "75%      0.650170    0.597007    0.195366    0.373263    0.403168    0.305499   \n",
       "max     27.202839    8.361985    5.466230    1.108748    2.208209    2.745261   \n",
       "\n",
       "              V27         V28       Amount       Class  \n",
       "count  982.000000  982.000000   982.000000  982.000000  \n",
       "mean     0.087083    0.034334    95.683259    0.500000  \n",
       "std      1.019076    0.437801   198.808947    0.500255  \n",
       "min     -7.263482   -3.529290     0.000000    0.000000  \n",
       "25%     -0.066423   -0.055333     1.495000    0.000000  \n",
       "50%      0.048315    0.035385    16.545000    0.500000  \n",
       "75%      0.462166    0.218938    99.990000    1.000000  \n",
       "max      3.685950    1.779364  1809.680000    1.000000  \n",
       "\n",
       "[8 rows x 31 columns]"
      ]
     },
     "execution_count": 19,
     "metadata": {},
     "output_type": "execute_result"
    }
   ],
   "source": [
    "x=df2[\"Class\"].count() #random under sampling to make the imbalanced data become 50/50 fraud and not fraud\n",
    "df1_under=df1.sample(x)\n",
    "df_under=pd.concat([df1_under,df2])\n",
    "df_under.describe()"
   ]
  },
  {
   "cell_type": "code",
   "execution_count": 20,
   "id": "25dba702",
   "metadata": {},
   "outputs": [
    {
     "name": "stderr",
     "output_type": "stream",
     "text": [
      "C:\\Users\\bsmat\\anaconda3\\lib\\site-packages\\seaborn\\_decorators.py:36: FutureWarning: Pass the following variable as a keyword arg: x. From version 0.12, the only valid positional argument will be `data`, and passing other arguments without an explicit keyword will result in an error or misinterpretation.\n",
      "  warnings.warn(\n"
     ]
    },
    {
     "data": {
      "text/plain": [
       "<AxesSubplot:xlabel='Class', ylabel='count'>"
      ]
     },
     "execution_count": 20,
     "metadata": {},
     "output_type": "execute_result"
    },
    {
     "data": {
      "image/png": "[encoded data removed]",
      "text/plain": [
       "<Figure size 432x288 with 1 Axes>"
      ]
     },
     "metadata": {
      "needs_background": "light"
     },
     "output_type": "display_data"
    }
   ],
   "source": [
    "sns.countplot(\"Class\",data=df_under,palette=\"tab10\") #representation of new balanced data (0 is not fraudulent, 1 is fraudulent)"
   ]
  },
  {
   "cell_type": "markdown",
   "id": "cd9e2c06",
   "metadata": {},
   "source": [
    "The sample is now balanced"
   ]
  },
  {
   "cell_type": "code",
   "execution_count": 21,
   "id": "64f11eff",
   "metadata": {},
   "outputs": [
    {
     "data": {
      "text/plain": [
       "<matplotlib.legend.Legend at 0x28b213824f0>"
      ]
     },
     "execution_count": 21,
     "metadata": {},
     "output_type": "execute_result"
    },
    {
     "data": {
      "image/png": "[encoded data removed]",
      "text/plain": [
       "<Figure size 432x288 with 1 Axes>"
      ]
     },
     "metadata": {
      "needs_background": "light"
     },
     "output_type": "display_data"
    }
   ],
   "source": [
    "sns.scatterplot(data=df_under, x=\"Time\",y=\"Amount\",hue=\"Class\")\n",
    "plt.title(\"Time and Amount correlation for fraud and non-fraud\")\n",
    "plt.legend(loc=\"upper right\")"
   ]
  },
  {
   "cell_type": "code",
   "execution_count": 22,
   "id": "3402be03",
   "metadata": {},
   "outputs": [
    {
     "data": {
      "text/plain": [
       "Text(0.5, 1.0, 'Comparing distributions of Amounts by Class')"
      ]
     },
     "execution_count": 22,
     "metadata": {},
     "output_type": "execute_result"
    },
    {
     "data": {
      "image/png": "[encoded data removed]",
      "text/plain": [
       "<Figure size 432x288 with 1 Axes>"
      ]
     },
     "metadata": {
      "needs_background": "light"
     },
     "output_type": "display_data"
    }
   ],
   "source": [
    "sns.boxplot(x=\"Class\",y=\"Amount\",data=df_under)\n",
    "plt.title(\"Comparing distributions of Amounts by Class\")"
   ]
  },
  {
   "cell_type": "markdown",
   "id": "3cba4a8e",
   "metadata": {},
   "source": [
    "We previously removed some extreme values from amount so this check is to confirm that"
   ]
  },
  {
   "cell_type": "code",
   "execution_count": 23,
   "id": "3028149e",
   "metadata": {},
   "outputs": [
    {
     "data": {
      "text/plain": [
       "Text(0.5, 1.0, 'Comparing distribution of Time by Class')"
      ]
     },
     "execution_count": 23,
     "metadata": {},
     "output_type": "execute_result"
    },
    {
     "data": {
      "image/png": "[encoded data removed]",
      "text/plain": [
       "<Figure size 432x288 with 1 Axes>"
      ]
     },
     "metadata": {
      "needs_background": "light"
     },
     "output_type": "display_data"
    }
   ],
   "source": [
    "sns.boxplot(x=\"Class\",y=\"Time\",data=df_under)\n",
    "plt.title(\"Comparing distribution of Time by Class\")"
   ]
  },
  {
   "cell_type": "code",
   "execution_count": 24,
   "id": "a9a21eb6",
   "metadata": {},
   "outputs": [
    {
     "data": {
      "text/plain": [
       "<AxesSubplot:>"
      ]
     },
     "execution_count": 24,
     "metadata": {},
     "output_type": "execute_result"
    },
    {
     "data": {
      "image/png": "[encoded data removed]",
      "text/plain": [
       "<Figure size 432x288 with 2 Axes>"
      ]
     },
     "metadata": {
      "needs_background": "light"
     },
     "output_type": "display_data"
    }
   ],
   "source": [
    "df_under_corr=df_under.corr()\n",
    "sns.heatmap(data=df_under_corr, cmap=\"BrBG_r\") #Finding correlation of variables\n"
   ]
  },
  {
   "cell_type": "markdown",
   "id": "2f7f344a",
   "metadata": {},
   "source": [
    "Notable positive correlation to fraud:V2,V4,V11\n",
    "Notable neagtive correlation to fraud:V3,V10,V12,V14\n",
    "\n",
    "This information could be useful for model building if we aim to create a more efficient model by just looking at the variables with the greatest impact on determining class"
   ]
  },
  {
   "cell_type": "code",
   "execution_count": 25,
   "id": "bd61dffc",
   "metadata": {},
   "outputs": [
    {
     "data": {
      "text/plain": [
       "Text(0.5, 1.0, 'Correlation of V11 with Class')"
      ]
     },
     "execution_count": 25,
     "metadata": {},
     "output_type": "execute_result"
    },
    {
     "data": {
      "image/png": "[encoded data removed]",
      "text/plain": [
       "<Figure size 1440x504 with 3 Axes>"
      ]
     },
     "metadata": {
      "needs_background": "light"
     },
     "output_type": "display_data"
    }
   ],
   "source": [
    "fig, (ax1,ax2,ax3) = plt.subplots(1,3, figsize=(20,7)) #Visualising positive correlation variables with a logistic regression plot\n",
    "sns.regplot(y=\"Class\",x=\"V2\",data=df_under,ax=ax1,logistic=True)\n",
    "sns.regplot(y=\"Class\",x=\"V4\",data=df_under,ax=ax2,logistic=True)\n",
    "sns.regplot(y=\"Class\",x=\"V11\",data=df_under,ax=ax3,logistic=True)\n",
    "ax1.set_title(\"Correlation of V2 with Class\")\n",
    "ax2.set_title(\"Correlation of V4 with Class\")\n",
    "ax3.set_title(\"Correlation of V11 with Class\")"
   ]
  },
  {
   "cell_type": "markdown",
   "id": "7783f2de",
   "metadata": {},
   "source": [
    "Visualization of Positive Correlation graphs"
   ]
  },
  {
   "cell_type": "code",
   "execution_count": 26,
   "id": "4eb2a552",
   "metadata": {},
   "outputs": [
    {
     "data": {
      "text/plain": [
       "Text(0.5, 1.0, 'Correlation of V14 with Class')"
      ]
     },
     "execution_count": 26,
     "metadata": {},
     "output_type": "execute_result"
    },
    {
     "data": {
      "image/png": "[encoded data removed]",
      "text/plain": [
       "<Figure size 1440x864 with 4 Axes>"
      ]
     },
     "metadata": {
      "needs_background": "light"
     },
     "output_type": "display_data"
    }
   ],
   "source": [
    "fig,ax = plt.subplots(2,2, figsize=(20,12)) #Visualising negative correlation variables with logistic regression plot\n",
    "sns.regplot(y=\"Class\",x=\"V3\",data=df_under,ax=ax[0][0],logistic=True)\n",
    "sns.regplot(y=\"Class\",x=\"V10\",data=df_under,ax=ax[0][1],logistic=True)\n",
    "sns.regplot(y=\"Class\",x=\"V12\",data=df_under,ax=ax[1][0],logistic=True)\n",
    "sns.regplot(y=\"Class\",x=\"V14\",data=df_under,ax=ax[1][1],logistic=True)\n",
    "ax[0][0].set_title(\"Correlation of V3 with Class\")\n",
    "ax[0][1].set_title(\"Correlation of V10 with Class\")\n",
    "ax[1][0].set_title(\"Correlation of V12 with Class\")\n",
    "ax[1][1].set_title(\"Correlation of V14 with Class\")"
   ]
  },
  {
   "cell_type": "markdown",
   "id": "3740df98",
   "metadata": {},
   "source": [
    "Visualization of Negative Correlation graphs"
   ]
  },
  {
   "cell_type": "markdown",
   "id": "3e99fb03",
   "metadata": {},
   "source": [
    "# ML model 1: Logistic Regression using random under sampling"
   ]
  },
  {
   "cell_type": "code",
   "execution_count": 27,
   "id": "60b05126",
   "metadata": {},
   "outputs": [],
   "source": [
    "x_train, x_test, y_train, y_test = train_test_split(df_under.drop(\"Class\",axis=1), df_under[\"Class\"])"
   ]
  },
  {
   "cell_type": "code",
   "execution_count": 28,
   "id": "bb238ef0",
   "metadata": {
    "scrolled": false
   },
   "outputs": [
    {
     "name": "stderr",
     "output_type": "stream",
     "text": [
      "C:\\Users\\bsmat\\anaconda3\\lib\\site-packages\\sklearn\\linear_model\\_logistic.py:763: ConvergenceWarning: lbfgs failed to converge (status=1):\n",
      "STOP: TOTAL NO. of ITERATIONS REACHED LIMIT.\n",
      "\n",
      "Increase the number of iterations (max_iter) or scale the data as shown in:\n",
      "    https://scikit-learn.org/stable/modules/preprocessing.html\n",
      "Please also refer to the documentation for alternative solver options:\n",
      "    https://scikit-learn.org/stable/modules/linear_model.html#logistic-regression\n",
      "  n_iter_i = _check_optimize_result(\n"
     ]
    },
    {
     "data": {
      "text/plain": [
       "<AxesSubplot:>"
      ]
     },
     "execution_count": 28,
     "metadata": {},
     "output_type": "execute_result"
    },
    {
     "data": {
      "image/png": "[encoded data removed]",
      "text/plain": [
       "<Figure size 432x288 with 2 Axes>"
      ]
     },
     "metadata": {
      "needs_background": "light"
     },
     "output_type": "display_data"
    }
   ],
   "source": [
    "LogReg=LogisticRegression()\n",
    "LogReg.fit(x_train,y_train)\n",
    "y_pred = LogReg.predict(x_test)\n",
    "log_reg_cf=confusion_matrix(y_test, y_pred)\n",
    "sns.heatmap(log_reg_cf,annot=True,cmap=\"BuPu\",fmt='g')"
   ]
  },
  {
   "cell_type": "markdown",
   "id": "0ab96184",
   "metadata": {},
   "source": [
    "Steps taken:\n",
    "1) Train-test split\n",
    "2) Fit training data to logistic regression model\n",
    "3) Predict test data using fitted model\n",
    "4) Compare results using confusion matrix, which is visualized using a heatmap"
   ]
  },
  {
   "cell_type": "code",
   "execution_count": 29,
   "id": "ac6a59fa",
   "metadata": {
    "scrolled": true
   },
   "outputs": [
    {
     "name": "stdout",
     "output_type": "stream",
     "text": [
      "Accuracy for Undersampling Logistic Regression = 0.9389421487603306\n"
     ]
    }
   ],
   "source": [
    "print(\"Accuracy for Undersampling Logistic Regression =\", roc_auc_score(y_test,y_pred))"
   ]
  },
  {
   "cell_type": "code",
   "execution_count": 30,
   "id": "ce665f7b",
   "metadata": {},
   "outputs": [
    {
     "name": "stdout",
     "output_type": "stream",
     "text": [
      "              precision    recall  f1-score   support\n",
      "\n",
      "           0       0.94      0.93      0.94       121\n",
      "           1       0.94      0.94      0.94       125\n",
      "\n",
      "    accuracy                           0.94       246\n",
      "   macro avg       0.94      0.94      0.94       246\n",
      "weighted avg       0.94      0.94      0.94       246\n",
      "\n"
     ]
    }
   ],
   "source": [
    "print(classification_report(y_test, y_pred))"
   ]
  },
  {
   "cell_type": "markdown",
   "id": "e27edebc",
   "metadata": {},
   "source": [
    "# Data Cleaning method 2 (SMOTE/Over-sampling)"
   ]
  },
  {
   "cell_type": "code",
   "execution_count": 31,
   "id": "a80ddf1a",
   "metadata": {
    "scrolled": true
   },
   "outputs": [
    {
     "data": {
      "text/html": [
       "<div>\n",
       "<style scoped>\n",
       "    .dataframe tbody tr th:only-of-type {\n",
       "        vertical-align: middle;\n",
       "    }\n",
       "\n",
       "    .dataframe tbody tr th {\n",
       "        vertical-align: top;\n",
       "    }\n",
       "\n",
       "    .dataframe thead th {\n",
       "        text-align: right;\n",
       "    }\n",
       "</style>\n",
       "<table border=\"1\" class=\"dataframe\">\n",
       "  <thead>\n",
       "    <tr style=\"text-align: right;\">\n",
       "      <th></th>\n",
       "      <th>V1</th>\n",
       "      <th>V2</th>\n",
       "      <th>V3</th>\n",
       "      <th>V4</th>\n",
       "      <th>V5</th>\n",
       "      <th>V6</th>\n",
       "      <th>V7</th>\n",
       "      <th>V8</th>\n",
       "      <th>V9</th>\n",
       "      <th>V10</th>\n",
       "      <th>...</th>\n",
       "      <th>V21</th>\n",
       "      <th>V22</th>\n",
       "      <th>V23</th>\n",
       "      <th>V24</th>\n",
       "      <th>V25</th>\n",
       "      <th>V26</th>\n",
       "      <th>V27</th>\n",
       "      <th>V28</th>\n",
       "      <th>Class</th>\n",
       "      <th>normAmount</th>\n",
       "    </tr>\n",
       "  </thead>\n",
       "  <tbody>\n",
       "    <tr>\n",
       "      <th>0</th>\n",
       "      <td>-1.359807</td>\n",
       "      <td>-0.072781</td>\n",
       "      <td>2.536347</td>\n",
       "      <td>1.378155</td>\n",
       "      <td>-0.338321</td>\n",
       "      <td>0.462388</td>\n",
       "      <td>0.239599</td>\n",
       "      <td>0.098698</td>\n",
       "      <td>0.363787</td>\n",
       "      <td>0.090794</td>\n",
       "      <td>...</td>\n",
       "      <td>-0.018307</td>\n",
       "      <td>0.277838</td>\n",
       "      <td>-0.110474</td>\n",
       "      <td>0.066928</td>\n",
       "      <td>0.128539</td>\n",
       "      <td>-0.189115</td>\n",
       "      <td>0.133558</td>\n",
       "      <td>-0.021053</td>\n",
       "      <td>0</td>\n",
       "      <td>0.244964</td>\n",
       "    </tr>\n",
       "    <tr>\n",
       "      <th>1</th>\n",
       "      <td>1.191857</td>\n",
       "      <td>0.266151</td>\n",
       "      <td>0.166480</td>\n",
       "      <td>0.448154</td>\n",
       "      <td>0.060018</td>\n",
       "      <td>-0.082361</td>\n",
       "      <td>-0.078803</td>\n",
       "      <td>0.085102</td>\n",
       "      <td>-0.255425</td>\n",
       "      <td>-0.166974</td>\n",
       "      <td>...</td>\n",
       "      <td>-0.225775</td>\n",
       "      <td>-0.638672</td>\n",
       "      <td>0.101288</td>\n",
       "      <td>-0.339846</td>\n",
       "      <td>0.167170</td>\n",
       "      <td>0.125895</td>\n",
       "      <td>-0.008983</td>\n",
       "      <td>0.014724</td>\n",
       "      <td>0</td>\n",
       "      <td>-0.342475</td>\n",
       "    </tr>\n",
       "    <tr>\n",
       "      <th>2</th>\n",
       "      <td>-1.358354</td>\n",
       "      <td>-1.340163</td>\n",
       "      <td>1.773209</td>\n",
       "      <td>0.379780</td>\n",
       "      <td>-0.503198</td>\n",
       "      <td>1.800499</td>\n",
       "      <td>0.791461</td>\n",
       "      <td>0.247676</td>\n",
       "      <td>-1.514654</td>\n",
       "      <td>0.207643</td>\n",
       "      <td>...</td>\n",
       "      <td>0.247998</td>\n",
       "      <td>0.771679</td>\n",
       "      <td>0.909412</td>\n",
       "      <td>-0.689281</td>\n",
       "      <td>-0.327642</td>\n",
       "      <td>-0.139097</td>\n",
       "      <td>-0.055353</td>\n",
       "      <td>-0.059752</td>\n",
       "      <td>0</td>\n",
       "      <td>1.160686</td>\n",
       "    </tr>\n",
       "    <tr>\n",
       "      <th>3</th>\n",
       "      <td>-0.966272</td>\n",
       "      <td>-0.185226</td>\n",
       "      <td>1.792993</td>\n",
       "      <td>-0.863291</td>\n",
       "      <td>-0.010309</td>\n",
       "      <td>1.247203</td>\n",
       "      <td>0.237609</td>\n",
       "      <td>0.377436</td>\n",
       "      <td>-1.387024</td>\n",
       "      <td>-0.054952</td>\n",
       "      <td>...</td>\n",
       "      <td>-0.108300</td>\n",
       "      <td>0.005274</td>\n",
       "      <td>-0.190321</td>\n",
       "      <td>-1.175575</td>\n",
       "      <td>0.647376</td>\n",
       "      <td>-0.221929</td>\n",
       "      <td>0.062723</td>\n",
       "      <td>0.061458</td>\n",
       "      <td>0</td>\n",
       "      <td>0.140534</td>\n",
       "    </tr>\n",
       "    <tr>\n",
       "      <th>4</th>\n",
       "      <td>-1.158233</td>\n",
       "      <td>0.877737</td>\n",
       "      <td>1.548718</td>\n",
       "      <td>0.403034</td>\n",
       "      <td>-0.407193</td>\n",
       "      <td>0.095921</td>\n",
       "      <td>0.592941</td>\n",
       "      <td>-0.270533</td>\n",
       "      <td>0.817739</td>\n",
       "      <td>0.753074</td>\n",
       "      <td>...</td>\n",
       "      <td>-0.009431</td>\n",
       "      <td>0.798278</td>\n",
       "      <td>-0.137458</td>\n",
       "      <td>0.141267</td>\n",
       "      <td>-0.206010</td>\n",
       "      <td>0.502292</td>\n",
       "      <td>0.219422</td>\n",
       "      <td>0.215153</td>\n",
       "      <td>0</td>\n",
       "      <td>-0.073403</td>\n",
       "    </tr>\n",
       "  </tbody>\n",
       "</table>\n",
       "<p>5 rows × 30 columns</p>\n",
       "</div>"
      ],
      "text/plain": [
       "         V1        V2        V3        V4        V5        V6        V7  \\\n",
       "0 -1.359807 -0.072781  2.536347  1.378155 -0.338321  0.462388  0.239599   \n",
       "1  1.191857  0.266151  0.166480  0.448154  0.060018 -0.082361 -0.078803   \n",
       "2 -1.358354 -1.340163  1.773209  0.379780 -0.503198  1.800499  0.791461   \n",
       "3 -0.966272 -0.185226  1.792993 -0.863291 -0.010309  1.247203  0.237609   \n",
       "4 -1.158233  0.877737  1.548718  0.403034 -0.407193  0.095921  0.592941   \n",
       "\n",
       "         V8        V9       V10  ...       V21       V22       V23       V24  \\\n",
       "0  0.098698  0.363787  0.090794  ... -0.018307  0.277838 -0.110474  0.066928   \n",
       "1  0.085102 -0.255425 -0.166974  ... -0.225775 -0.638672  0.101288 -0.339846   \n",
       "2  0.247676 -1.514654  0.207643  ...  0.247998  0.771679  0.909412 -0.689281   \n",
       "3  0.377436 -1.387024 -0.054952  ... -0.108300  0.005274 -0.190321 -1.175575   \n",
       "4 -0.270533  0.817739  0.753074  ... -0.009431  0.798278 -0.137458  0.141267   \n",
       "\n",
       "        V25       V26       V27       V28  Class  normAmount  \n",
       "0  0.128539 -0.189115  0.133558 -0.021053      0    0.244964  \n",
       "1  0.167170  0.125895 -0.008983  0.014724      0   -0.342475  \n",
       "2 -0.327642 -0.139097 -0.055353 -0.059752      0    1.160686  \n",
       "3  0.647376 -0.221929  0.062723  0.061458      0    0.140534  \n",
       "4 -0.206010  0.502292  0.219422  0.215153      0   -0.073403  \n",
       "\n",
       "[5 rows x 30 columns]"
      ]
     },
     "execution_count": 31,
     "metadata": {},
     "output_type": "execute_result"
    }
   ],
   "source": [
    "df['normAmount'] = StandardScaler().fit_transform(df['Amount'].values.reshape(-1, 1))\n",
    "df_alt = df.drop(['Time', 'Amount'], axis=1)\n",
    "df_alt.head()"
   ]
  },
  {
   "cell_type": "markdown",
   "id": "74a344b6",
   "metadata": {},
   "source": [
    "Scaling the column \"Amount\" so that it can also be used in the models as the raw data of Amounts is not appropriate.\n",
    "\"Time\" is also not an appropriate column, these 2 columns can be dropped from the model to prevent inaccuracies."
   ]
  },
  {
   "cell_type": "code",
   "execution_count": 32,
   "id": "48e52110",
   "metadata": {},
   "outputs": [],
   "source": [
    "x_train_smote, x_test_smote, y_train_smote, y_test_smote = train_test_split(df_alt.drop(\"Class\",axis=1), df_alt[\"Class\"],random_state=1)\n",
    "sm = SMOTE(random_state=1)\n",
    "x_train_smote, y_train_smote = sm.fit_resample(x_train_smote, y_train_smote.ravel())"
   ]
  },
  {
   "cell_type": "markdown",
   "id": "65b3b139",
   "metadata": {},
   "source": [
    "Over-sampling using SMOTE along with the train test split"
   ]
  },
  {
   "cell_type": "markdown",
   "id": "d3370328",
   "metadata": {},
   "source": [
    "# ML model 2: Logistic Regression using SMOTE/Over-sampling"
   ]
  },
  {
   "cell_type": "code",
   "execution_count": 33,
   "id": "078ff001",
   "metadata": {},
   "outputs": [
    {
     "data": {
      "text/plain": [
       "<AxesSubplot:>"
      ]
     },
     "execution_count": 33,
     "metadata": {},
     "output_type": "execute_result"
    },
    {
     "data": {
      "image/png": "[encoded data removed]",
      "text/plain": [
       "<Figure size 432x288 with 2 Axes>"
      ]
     },
     "metadata": {
      "needs_background": "light"
     },
     "output_type": "display_data"
    }
   ],
   "source": [
    "LogReg=LogisticRegression()\n",
    "LogReg.fit(x_train_smote,y_train_smote)\n",
    "y_pred_smote=LogReg.predict(x_test_smote)\n",
    "log_reg_cf_smote=confusion_matrix(y_test_smote,y_pred_smote)\n",
    "sns.heatmap(log_reg_cf_smote,annot=True,cmap=\"BuPu\",fmt='g')"
   ]
  },
  {
   "cell_type": "markdown",
   "id": "6207377e",
   "metadata": {},
   "source": [
    "Same process as the first logistic regression"
   ]
  },
  {
   "cell_type": "code",
   "execution_count": 34,
   "id": "4200f15b",
   "metadata": {
    "scrolled": true
   },
   "outputs": [
    {
     "name": "stdout",
     "output_type": "stream",
     "text": [
      "Accuracy for Oversampling Logistic Regression using SMOTE = 0.9361275441791963\n"
     ]
    }
   ],
   "source": [
    "print(\"Accuracy for Oversampling Logistic Regression using SMOTE =\", roc_auc_score(y_test_smote,y_pred_smote))"
   ]
  },
  {
   "cell_type": "code",
   "execution_count": 35,
   "id": "448ec6e7",
   "metadata": {},
   "outputs": [
    {
     "name": "stdout",
     "output_type": "stream",
     "text": [
      "              precision    recall  f1-score   support\n",
      "\n",
      "           0       1.00      0.98      0.99     71091\n",
      "           1       0.07      0.89      0.12       111\n",
      "\n",
      "    accuracy                           0.98     71202\n",
      "   macro avg       0.53      0.94      0.56     71202\n",
      "weighted avg       1.00      0.98      0.99     71202\n",
      "\n"
     ]
    }
   ],
   "source": [
    "print(classification_report(y_test_smote, y_pred_smote))"
   ]
  },
  {
   "cell_type": "markdown",
   "id": "03f6d21e",
   "metadata": {},
   "source": [
    "# ML Model 3: K-Nearest Neighbours"
   ]
  },
  {
   "cell_type": "code",
   "execution_count": 36,
   "id": "0d0e224e",
   "metadata": {},
   "outputs": [],
   "source": [
    "knn=KNeighborsClassifier(n_neighbors=4)"
   ]
  },
  {
   "cell_type": "code",
   "execution_count": 37,
   "id": "86c24aac",
   "metadata": {},
   "outputs": [
    {
     "data": {
      "text/plain": [
       "KNeighborsClassifier(n_neighbors=4)"
      ]
     },
     "execution_count": 37,
     "metadata": {},
     "output_type": "execute_result"
    }
   ],
   "source": [
    "knn.fit(x_train_smote,y_train_smote)"
   ]
  },
  {
   "cell_type": "code",
   "execution_count": 38,
   "id": "9554bbc0",
   "metadata": {},
   "outputs": [],
   "source": [
    "ypred=knn.predict(x_test_smote)"
   ]
  },
  {
   "cell_type": "markdown",
   "id": "9641943d",
   "metadata": {},
   "source": [
    "Steps taken:\n",
    "\n",
    "1) Use the same train-test split for SMOTE\n",
    "2) Fit data to model\n",
    "3) Predict data using the model\n",
    "\n",
    "Note: n_neighbors=4 was chosen at random initially as running this code took a lot of time and was highly inefficient due to the number of dimensions. A forloop should ideally be used to determine which of the values of n_neighbors gives the highest accuracy result. Modifications to this code is still ongoing to improve efficiency of the models."
   ]
  },
  {
   "cell_type": "code",
   "execution_count": 39,
   "id": "53cd4992",
   "metadata": {},
   "outputs": [
    {
     "name": "stdout",
     "output_type": "stream",
     "text": [
      "              precision    recall  f1-score   support\n",
      "\n",
      "           0       1.00      1.00      1.00     71091\n",
      "           1       0.54      0.78      0.64       111\n",
      "\n",
      "    accuracy                           1.00     71202\n",
      "   macro avg       0.77      0.89      0.82     71202\n",
      "weighted avg       1.00      1.00      1.00     71202\n",
      "\n"
     ]
    }
   ],
   "source": [
    "print(classification_report(y_test_smote,ypred))"
   ]
  },
  {
   "cell_type": "code",
   "execution_count": 40,
   "id": "dbee3bd6",
   "metadata": {},
   "outputs": [
    {
     "data": {
      "text/plain": [
       "<AxesSubplot:>"
      ]
     },
     "execution_count": 40,
     "metadata": {},
     "output_type": "execute_result"
    },
    {
     "data": {
      "image/png": "[encoded data removed]",
      "text/plain": [
       "<Figure size 432x288 with 2 Axes>"
      ]
     },
     "metadata": {
      "needs_background": "light"
     },
     "output_type": "display_data"
    }
   ],
   "source": [
    "cf_knn=confusion_matrix(y_test_smote,ypred)\n",
    "sns.heatmap(cf_knn,annot=True,cmap=\"BuPu\",fmt='g')"
   ]
  },
  {
   "cell_type": "markdown",
   "id": "a59a5edc",
   "metadata": {},
   "source": [
    "Confusion matrix can also be used to check for accuracy with this model"
   ]
  },
  {
   "cell_type": "code",
   "execution_count": 41,
   "id": "225574fb",
   "metadata": {},
   "outputs": [
    {
     "name": "stdout",
     "output_type": "stream",
     "text": [
      "Accuracy for K-Nearest Neighbors Classifier = 0.891371432199385\n"
     ]
    }
   ],
   "source": [
    "print(\"Accuracy for K-Nearest Neighbors Classifier =\", roc_auc_score(y_test_smote,ypred))"
   ]
  },
  {
   "cell_type": "markdown",
   "id": "eae663ac",
   "metadata": {},
   "source": [
    "# ML Model 4: Decision Tree Classifier"
   ]
  },
  {
   "cell_type": "code",
   "execution_count": 42,
   "id": "8b56cdd1",
   "metadata": {},
   "outputs": [],
   "source": [
    "dtc = DecisionTreeClassifier()\n",
    "dtc = dtc.fit(x_train_smote,y_train_smote)\n",
    "y_pred_dtc = dtc.predict(x_test_smote)"
   ]
  },
  {
   "cell_type": "code",
   "execution_count": 43,
   "id": "1be8b730",
   "metadata": {},
   "outputs": [
    {
     "name": "stdout",
     "output_type": "stream",
     "text": [
      "              precision    recall  f1-score   support\n",
      "\n",
      "           0       1.00      1.00      1.00     71091\n",
      "           1       0.41      0.74      0.53       111\n",
      "\n",
      "    accuracy                           1.00     71202\n",
      "   macro avg       0.70      0.87      0.76     71202\n",
      "weighted avg       1.00      1.00      1.00     71202\n",
      "\n"
     ]
    },
    {
     "data": {
      "text/plain": [
       "<AxesSubplot:>"
      ]
     },
     "execution_count": 43,
     "metadata": {},
     "output_type": "execute_result"
    },
    {
     "data": {
      "image/png": "[encoded data removed]",
      "text/plain": [
       "<Figure size 432x288 with 2 Axes>"
      ]
     },
     "metadata": {
      "needs_background": "light"
     },
     "output_type": "display_data"
    }
   ],
   "source": [
    "print(classification_report(y_test_smote,y_pred_dtc))\n",
    "cf_dtc=confusion_matrix(y_test_smote,y_pred_dtc)\n",
    "sns.heatmap(cf_dtc,annot=True,cmap=\"BuPu\",fmt='g')"
   ]
  },
  {
   "cell_type": "markdown",
   "id": "9fd98bc0",
   "metadata": {},
   "source": [
    "Similar steps are taken as the KNN model. The train-test split from SMOTE is also used for this model."
   ]
  },
  {
   "cell_type": "code",
   "execution_count": 44,
   "id": "05b1f463",
   "metadata": {},
   "outputs": [
    {
     "name": "stdout",
     "output_type": "stream",
     "text": [
      "Accuracy for Decision Tree Classifier = 0.8685394471569937\n"
     ]
    }
   ],
   "source": [
    "print(\"Accuracy for Decision Tree Classifier =\", roc_auc_score(y_test_smote,y_pred_dtc))"
   ]
  },
  {
   "cell_type": "markdown",
   "id": "e4cf15d8",
   "metadata": {},
   "source": [
    "The most accurate model found is logistic regression, both over-sampling and under-sampling give similar results of over 90% but may vary depending on randomization factor of the samples."
   ]
  },
  {
   "cell_type": "code",
   "execution_count": null,
   "id": "2f8cbcac",
   "metadata": {},
   "outputs": [],
   "source": []
  }
 ],
 "metadata": {
  "kernelspec": {
   "display_name": "Python 3",
   "language": "python",
   "name": "python3"
  },
  "language_info": {
   "codemirror_mode": {
    "name": "ipython",
    "version": 3
   },
   "file_extension": ".py",
   "mimetype": "text/x-python",
   "name": "python",
   "nbconvert_exporter": "python",
   "pygments_lexer": "ipython3",
   "version": "3.8.8"
  }
 },
 "nbformat": 4,
 "nbformat_minor": 5
}
